{
 "cells": [
  {
   "cell_type": "code",
   "execution_count": 1,
   "metadata": {
    "collapsed": true
   },
   "outputs": [],
   "source": [
    "import pandas as pd\n",
    "import numpy as np\n",
    "import json\n",
    "import math"
   ]
  },
  {
   "cell_type": "code",
   "execution_count": 165,
   "metadata": {
    "collapsed": true
   },
   "outputs": [],
   "source": [
    "pointsA = json.load(open('./data/det_testpoints1_1.json'))\n",
    "pointsB = json.load(open('./data/det_testpoints1_2.json'))\n",
    "\n",
    "fns = [p['filename'] for p in pointsA]\n",
    "locsA = np.array([(p['annotations'][0]['y'], p['annotations'][0]['x']) for p in pointsA])\n",
    "locsB = np.array([(p['annotations'][0]['y'], p['annotations'][0]['x']) for p in pointsB])"
   ]
  },
  {
   "cell_type": "code",
   "execution_count": 173,
   "metadata": {
    "collapsed": true
   },
   "outputs": [],
   "source": [
    "d = np.array([math.hypot(*(l1 - l2)) for l1, l2 in zip(locsA, locsB)])"
   ]
  },
  {
   "cell_type": "code",
   "execution_count": 177,
   "metadata": {
    "collapsed": true
   },
   "outputs": [],
   "source": [
    "badidx = (d>100).nonzero()[0]"
   ]
  },
  {
   "cell_type": "code",
   "execution_count": 218,
   "metadata": {
    "collapsed": true
   },
   "outputs": [],
   "source": [
    "df_det = pd.read_csv('./submissions/submission_01062016_1.csv').sort('Image')\n",
    "df_a = pd.read_csv('./submissions/submission_01062016_2.csv').sort('Image')\n",
    "df_clean = df_det.copy()"
   ]
  },
  {
   "cell_type": "code",
   "execution_count": 219,
   "metadata": {
    "collapsed": true
   },
   "outputs": [],
   "source": [
    "p_det = np.array(df_det.ix[:, 1:])\n",
    "p_a = np.array(df_a.ix[:, 1:])"
   ]
  },
  {
   "cell_type": "code",
   "execution_count": 221,
   "metadata": {
    "collapsed": true
   },
   "outputs": [],
   "source": [
    "p_clean = np.copy(p_det)\n",
    "p_clean[badidx] = p_a[badidx]"
   ]
  },
  {
   "cell_type": "code",
   "execution_count": 229,
   "metadata": {
    "collapsed": false
   },
   "outputs": [],
   "source": [
    "df_clean.loc[:, 1:] = p_clean"
   ]
  },
  {
   "cell_type": "code",
   "execution_count": 230,
   "metadata": {
    "collapsed": true
   },
   "outputs": [],
   "source": [
    "df_clean.to_csv('./submissions/submission_01072016_2.csv', index=False)"
   ]
  }
 ],
 "metadata": {
  "kernelspec": {
   "display_name": "Python 2",
   "language": "python",
   "name": "python2"
  },
  "language_info": {
   "codemirror_mode": {
    "name": "ipython",
    "version": 2
   },
   "file_extension": ".py",
   "mimetype": "text/x-python",
   "name": "python",
   "nbconvert_exporter": "python",
   "pygments_lexer": "ipython2",
   "version": "2.7.6"
  }
 },
 "nbformat": 4,
 "nbformat_minor": 0
}
