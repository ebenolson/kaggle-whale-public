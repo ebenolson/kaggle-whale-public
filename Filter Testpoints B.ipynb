{
 "cells": [
  {
   "cell_type": "code",
   "execution_count": null,
   "metadata": {
    "collapsed": true
   },
   "outputs": [],
   "source": [
    "import numpy as np\n",
    "import json\n",
    "import skimage.filters"
   ]
  },
  {
   "cell_type": "code",
   "execution_count": null,
   "metadata": {
    "collapsed": false
   },
   "outputs": [],
   "source": [
    "points = [json.load(open('./data/testpoints/testpoints1_{}.json'.format(i))) for i in range(17)]\n",
    "mappings = {}\n",
    "for ps in points:\n",
    "    for p in ps:\n",
    "        fn = p['filename']\n",
    "        if fn not in mappings:\n",
    "            mappings[fn] = []\n",
    "        mappings[fn].append((p['annotations'][0]['y'], p['annotations'][0]['x']))\n",
    "        \n",
    "fns = [fn for fn in mappings if len(mappings[fn]) == 17]\n",
    "locs = np.array([mappings[fn] for fn in fns])\n",
    "\n",
    "fnidx = {fn: i for i, fn in enumerate(fns)}\n",
    "\n",
    "filterlocs = []\n",
    "for loc in locs:\n",
    "    mask = np.zeros((384, 384))\n",
    "    for p in loc:\n",
    "        mask[p[0], p[1]] += 1\n",
    "    mask[:10, :] = 0\n",
    "    mask[-10:, :] = 0\n",
    "    mask[:, :10] = 0\n",
    "    mask[:, -10:] = 0\n",
    "    mask = skimage.filters.gaussian_filter(mask, 5)\n",
    "\n",
    "    x0 = mask.argmax() % 384\n",
    "    y0 = mask.argmax() // 384\n",
    "    filterlocs.append([y0, x0])\n",
    "    \n",
    "testpoints = json.load(open('./data/testpoints/testpoints1_0.json'))\n",
    "for p in testpoints1:\n",
    "    y, x = filterlocs[fnidx[p['filename']]]\n",
    "    p['annotations'][0]['x'] = int(x)\n",
    "    p['annotations'][0]['y'] = int(y)\n",
    "json.dump(testpoints1, open('./data/testpoints/testpoints1_filteredB.json','w'), indent=0)    "
   ]
  },
  {
   "cell_type": "code",
   "execution_count": null,
   "metadata": {
    "collapsed": true
   },
   "outputs": [],
   "source": [
    "points = [json.load(open('./data/testpoints/testpoints2_{}.json'.format(i))) for i in range(17)]\n",
    "mappings = {}\n",
    "for ps in points:\n",
    "    for p in ps:\n",
    "        fn = p['filename']\n",
    "        if fn not in mappings:\n",
    "            mappings[fn] = []\n",
    "        mappings[fn].append((p['annotations'][0]['y'], p['annotations'][0]['x']))\n",
    "        \n",
    "fns = [fn for fn in mappings if len(mappings[fn]) == 17]\n",
    "locs = np.array([mappings[fn] for fn in fns])\n",
    "\n",
    "fnidx = {fn: i for i, fn in enumerate(fns)}\n",
    "\n",
    "filterlocs = []\n",
    "for loc in locs:\n",
    "    mask = np.zeros((384, 384))\n",
    "    for p in loc:\n",
    "        mask[p[0], p[1]] += 1\n",
    "    mask[:10, :] = 0\n",
    "    mask[-10:, :] = 0\n",
    "    mask[:, :10] = 0\n",
    "    mask[:, -10:] = 0\n",
    "    mask = skimage.filters.gaussian_filter(mask, 5)\n",
    "\n",
    "    x0 = mask.argmax() % 384\n",
    "    y0 = mask.argmax() // 384\n",
    "    filterlocs.append([y0, x0])\n",
    "    \n",
    "testpoints = json.load(open('./data/testpoints/testpoints2_0.json'))\n",
    "for p in testpoints:\n",
    "    y, x = filterlocs[fnidx[p['filename']]]\n",
    "    p['annotations'][0]['x'] = int(x)\n",
    "    p['annotations'][0]['y'] = int(y)\n",
    "json.dump(testpoints, open('./data/testpoints/testpoints2_filteredB.json','w'), indent=0)    "
   ]
  }
 ],
 "metadata": {
  "kernelspec": {
   "display_name": "Python 2",
   "language": "python",
   "name": "python2"
  },
  "language_info": {
   "codemirror_mode": {
    "name": "ipython",
    "version": 2
   },
   "file_extension": ".py",
   "mimetype": "text/x-python",
   "name": "python",
   "nbconvert_exporter": "python",
   "pygments_lexer": "ipython2",
   "version": "2.7.6"
  }
 },
 "nbformat": 4,
 "nbformat_minor": 0
}
