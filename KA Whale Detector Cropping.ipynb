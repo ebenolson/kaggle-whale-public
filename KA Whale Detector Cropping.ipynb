{
 "cells": [
  {
   "cell_type": "code",
   "execution_count": null,
   "metadata": {
    "collapsed": true
   },
   "outputs": [],
   "source": [
    "import joblib\n",
    "import json\n",
    "\n",
    "import numpy as np\n",
    "import pandas as pd"
   ]
  },
  {
   "cell_type": "code",
   "execution_count": null,
   "metadata": {
    "collapsed": true
   },
   "outputs": [],
   "source": [
    "def crop(fn):\n",
    "    im = plt.imread('{}/{}'.format(image_folder,fn))\n",
    "    x1, y1, x2, y2 = df2.ix[detix[fn], 2:]\n",
    "    if np.isnan((x1, y1, x2, y2)).any():\n",
    "        x1 = -1e6\n",
    "        x2 = 1e6\n",
    "        y1 = -1e6\n",
    "        y2 = 1e6\n",
    "\n",
    "    W = max(np.abs(x2-x1), np.abs(y2-y1))\n",
    "    W = int(W*1.25 / 2)\n",
    "    cy, cx = int((y2+y1)/2), int((x2+x1)/2)\n",
    "    x0 = max(0, cx-W)\n",
    "    x1 = min(im.shape[1], cx+W)\n",
    "    y0 = max(0, cy-W)\n",
    "    y1 = min(im.shape[0], cy+W)\n",
    "\n",
    "    im = im[y0:y1, x0:x1]\n",
    "    im = skimage.transform.resize(im, (384, 384), preserve_range=True).astype('uint8')\n",
    "    return im, (y0, x0, y1, x1)"
   ]
  },
  {
   "cell_type": "markdown",
   "metadata": {},
   "source": [
    "# I. Crop Training and Test Images"
   ]
  },
  {
   "cell_type": "code",
   "execution_count": null,
   "metadata": {
    "collapsed": true
   },
   "outputs": [],
   "source": [
    "mkdir ./data/detcrop_train"
   ]
  },
  {
   "cell_type": "code",
   "execution_count": null,
   "metadata": {
    "collapsed": true
   },
   "outputs": [],
   "source": [
    "image_folder = './data/train'\n",
    "\n",
    "df = pd.read_csv('./data/train.csv')\n",
    "df2 = pd.read_csv('../kaggle-whale/whaledet_train.csv')\n",
    "fns = df2.Image\n",
    "detix = {df2.Image.ix[i]: i for i in range(len(df))}\n",
    "\n",
    "def process(fn):\n",
    "    im, data = crop(fn)\n",
    "    plt.imsave('{}/{}'.format('./data/detcrop_train', fn), im)\n",
    "    return (fn, data)\n",
    "\n",
    "df3 = pd.DataFrame(index=np.arange(len(df2)), columns=['Image', 'y0', 'x0', 'y1', 'x1'])\n",
    "results = joblib.Parallel(n_jobs=10)(joblib.delayed(process)(fn) for fn in fns)\n",
    "for fn, data in results:\n",
    "    df3.loc[detix[fn]] = [fn] + list(data)\n",
    "df3.to_csv('./data/detcrop_train.csv')"
   ]
  },
  {
   "cell_type": "code",
   "execution_count": null,
   "metadata": {
    "collapsed": false
   },
   "outputs": [],
   "source": [
    "mkdir ./data/detcrop_test"
   ]
  },
  {
   "cell_type": "code",
   "execution_count": null,
   "metadata": {
    "collapsed": false
   },
   "outputs": [],
   "source": [
    "image_folder = './data/test'\n",
    "df2 = pd.read_csv('../kaggle-whale/whaledet_test.csv')\n",
    "fns = df2.Image\n",
    "detix = {df2.Image.ix[i]: i for i in range(len(df2))}\n",
    "\n",
    "def process(fn):\n",
    "    im, data = crop(fn)\n",
    "    plt.imsave('{}/{}'.format('./data/detcrop_test', fn), im)\n",
    "    return (fn, data)\n",
    "\n",
    "df3 = pd.DataFrame(index=np.arange(len(df2)), columns=['Image', 'y0', 'x0', 'y1', 'x1'])\n",
    "results = joblib.Parallel(n_jobs=10)(joblib.delayed(process)(fn) for fn in fns)\n",
    "for fn, data in results:\n",
    "    df3.loc[detix[fn]] = [fn] + list(data)\n",
    "df3.to_csv('./data/detcrop_test.csv')"
   ]
  },
  {
   "cell_type": "markdown",
   "metadata": {
    "collapsed": false
   },
   "source": [
    "# II. Transform Annotations for Cropped Images"
   ]
  },
  {
   "cell_type": "code",
   "execution_count": null,
   "metadata": {
    "collapsed": true
   },
   "outputs": [],
   "source": [
    "df = pd.read_csv('./data/detcrop_train.csv')\n",
    "detix = {df.Image.ix[i]: i for i in range(len(df))}\n",
    "\n",
    "points1 = json.load(open('./whale-2015/points1.json'))\n",
    "points2 = json.load(open('./whale-2015/points2.json'))\n",
    "\n",
    "p1s = np.array([(p['annotations'][0]['x'], p['annotations'][0]['y']) for p in points1])\n",
    "p2s = np.array([(p['annotations'][0]['x'], p['annotations'][0]['y']) for p in points2])\n",
    "fns = np.array([p['filename'] for p in points1])"
   ]
  },
  {
   "cell_type": "code",
   "execution_count": null,
   "metadata": {
    "collapsed": false
   },
   "outputs": [],
   "source": [
    "points1b = []\n",
    "for p in points1:\n",
    "    x = p['annotations'][0]['x']\n",
    "    y = p['annotations'][0]['y']\n",
    "    fn = p['filename']\n",
    "    y0, x0, y1, x1 = df.ix[detix[fn]][2:]\n",
    "    ya = (y-y0)*384./(y1-y0)\n",
    "    xa = (x-x0)*384./(x1-x0)\n",
    "    p['annotations'][0]['x'] = xa\n",
    "    p['annotations'][0]['y'] = ya\n",
    "    if 0 < xa < 384 and 0 < ya < 384:\n",
    "        points1b.append(p)"
   ]
  },
  {
   "cell_type": "code",
   "execution_count": null,
   "metadata": {
    "collapsed": true
   },
   "outputs": [],
   "source": [
    "points2b = []\n",
    "for p in points2:\n",
    "    x = p['annotations'][0]['x']\n",
    "    y = p['annotations'][0]['y']\n",
    "    fn = p['filename']\n",
    "    y0, x0, y1, x1 = df.ix[detix[fn]][2:]\n",
    "    ya = (y-y0)*384./(y1-y0)\n",
    "    xa = (x-x0)*384./(x1-x0)\n",
    "    p['annotations'][0]['x'] = xa\n",
    "    p['annotations'][0]['y'] = ya\n",
    "    if 0 < xa < 384 and 0 < ya < 384:\n",
    "        points2b.append(p)"
   ]
  },
  {
   "cell_type": "code",
   "execution_count": null,
   "metadata": {
    "collapsed": true
   },
   "outputs": [],
   "source": [
    "p1s = np.array([(p['annotations'][0]['x'], p['annotations'][0]['y']) for p in points1b])\n",
    "p2s = np.array([(p['annotations'][0]['x'], p['annotations'][0]['y']) for p in points2b])"
   ]
  },
  {
   "cell_type": "code",
   "execution_count": null,
   "metadata": {
    "collapsed": true
   },
   "outputs": [],
   "source": [
    "json.dump(points1b, open('./data/detcrop_points1.json','w'), indent=0)    \n",
    "json.dump(points2b, open('./data/detcrop_points2.json','w'), indent=0)    "
   ]
  },
  {
   "cell_type": "markdown",
   "metadata": {},
   "source": [
    "# III. Transform test points back to uncropped images"
   ]
  },
  {
   "cell_type": "code",
   "execution_count": null,
   "metadata": {
    "collapsed": true
   },
   "outputs": [],
   "source": [
    "points1 = json.load(open('./data/detcrop_testpoints1.json'))\n",
    "points2 = json.load(open('./data/detcrop_testpoints2.json'))\n",
    "\n",
    "p1s = np.array([(p['annotations'][0]['x'], p['annotations'][0]['y']) for p in points1])\n",
    "p2s = np.array([(p['annotations'][0]['x'], p['annotations'][0]['y']) for p in points2])\n",
    "fns = np.array([p['filename'] for p in points1])"
   ]
  },
  {
   "cell_type": "code",
   "execution_count": null,
   "metadata": {
    "collapsed": true
   },
   "outputs": [],
   "source": [
    "df = pd.read_csv('./data/detcrop_test.csv')\n",
    "detix = {df.Image.ix[i]: i for i in range(len(df))}\n",
    "\n",
    "points1 = json.load(open('detcrop_testpoints1.json'))\n",
    "points2 = json.load(open('detcrop_testpoints2.json'))\n",
    "\n",
    "p1s = np.array([(p['annotations'][0]['x'], p['annotations'][0]['y']) for p in points1])\n",
    "p2s = np.array([(p['annotations'][0]['x'], p['annotations'][0]['y']) for p in points2])\n",
    "fns = np.array([p['filename'] for p in points1])"
   ]
  },
  {
   "cell_type": "code",
   "execution_count": null,
   "metadata": {
    "collapsed": false
   },
   "outputs": [],
   "source": [
    "points1b = []\n",
    "for p in points1:\n",
    "    xa = p['annotations'][0]['x']\n",
    "    ya = p['annotations'][0]['y']\n",
    "    fn = p['filename']\n",
    "    y0, x0, y1, x1 = df.ix[detix[fn]][2:]\n",
    "    y = ya * (y1-y0)/384. + y0\n",
    "    x = xa * (x1-x0)/384. + x0\n",
    "    p['annotations'][0]['x'] = x\n",
    "    p['annotations'][0]['y'] = y\n",
    "    points1b.append(p)"
   ]
  },
  {
   "cell_type": "code",
   "execution_count": null,
   "metadata": {
    "collapsed": false
   },
   "outputs": [],
   "source": [
    "points2b = []\n",
    "for p in points2:\n",
    "    xa = p['annotations'][0]['x']\n",
    "    ya = p['annotations'][0]['y']\n",
    "    fn = p['filename']\n",
    "    y0, x0, y1, x1 = df.ix[detix[fn]][2:]\n",
    "    y = ya * (y1-y0)/384. + y0\n",
    "    x = xa * (x1-x0)/384. + x0\n",
    "    p['annotations'][0]['x'] = x\n",
    "    p['annotations'][0]['y'] = y\n",
    "    points2b.append(p)"
   ]
  },
  {
   "cell_type": "code",
   "execution_count": null,
   "metadata": {
    "collapsed": true
   },
   "outputs": [],
   "source": [
    "json.dump(points1b, open('./data/detcrop_testpoints1.json','w'), indent=0)    \n",
    "json.dump(points2b, open('./data/detcrop_testpoints2.json','w'), indent=0)    "
   ]
  }
 ],
 "metadata": {
  "kernelspec": {
   "display_name": "Python 2",
   "language": "python",
   "name": "python2"
  },
  "language_info": {
   "codemirror_mode": {
    "name": "ipython",
    "version": 2
   },
   "file_extension": ".py",
   "mimetype": "text/x-python",
   "name": "python",
   "nbconvert_exporter": "python",
   "pygments_lexer": "ipython2",
   "version": "2.7.6"
  }
 },
 "nbformat": 4,
 "nbformat_minor": 0
}
