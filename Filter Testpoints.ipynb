{
 "cells": [
  {
   "cell_type": "code",
   "execution_count": null,
   "metadata": {
    "collapsed": true
   },
   "outputs": [],
   "source": [
    "import json\n",
    "import skimage.transform\n",
    "import numpy as np"
   ]
  },
  {
   "cell_type": "code",
   "execution_count": null,
   "metadata": {
    "collapsed": true
   },
   "outputs": [],
   "source": [
    "# \n",
    "# Smallest enclosing circle\n",
    "# \n",
    "# Copyright (c) 2014 Project Nayuki\n",
    "# http://www.nayuki.io/page/smallest-enclosing-circle\n",
    "# \n",
    "# This program is free software: you can redistribute it and/or modify\n",
    "# it under the terms of the GNU General Public License as published by\n",
    "# the Free Software Foundation, either version 3 of the License, or\n",
    "# (at your option) any later version.\n",
    "# \n",
    "# This program is distributed in the hope that it will be useful,\n",
    "# but WITHOUT ANY WARRANTY; without even the implied warranty of\n",
    "# MERCHANTABILITY or FITNESS FOR A PARTICULAR PURPOSE.  See the\n",
    "# GNU General Public License for more details.\n",
    "# \n",
    "# You should have received a copy of the GNU General Public License\n",
    "# along with this program (see COPYING.txt).\n",
    "# If not, see <http://www.gnu.org/licenses/>.\n",
    "# \n",
    "\n",
    "import math, random\n",
    "\n",
    "# Data conventions: A point is a pair of floats (x, y). A circle is a triple of floats (center x, center y, radius).\n",
    "\n",
    "# \n",
    "# Returns the smallest circle that encloses all the given points. Runs in expected O(n) time, randomized.\n",
    "# Input: A sequence of pairs of floats or ints, e.g. [(0,5), (3.1,-2.7)].\n",
    "# Output: A triple of floats representing a circle.\n",
    "# Note: If 0 points are given, None is returned. If 1 point is given, a circle of radius 0 is returned.\n",
    "# \n",
    "def make_circle(points):\n",
    "    # Convert to float and randomize order\n",
    "    shuffled = [(float(p[0]), float(p[1])) for p in points]\n",
    "    random.shuffle(shuffled)\n",
    "    # Progressively add points to circle or recompute circle\n",
    "    c = None\n",
    "    for (i, p) in enumerate(shuffled):\n",
    "        if c is None or not _is_in_circle(c, p):\n",
    "            c = _make_circle_one_point(shuffled[0 : i + 1], p)\n",
    "    return c\n",
    "\n",
    "\n",
    "# One boundary point known\n",
    "def _make_circle_one_point(points, p):\n",
    "    c = (p[0], p[1], 0.0)\n",
    "    for (i, q) in enumerate(points):\n",
    "        if not _is_in_circle(c, q):\n",
    "            if c[2] == 0.0:\n",
    "                c = _make_diameter(p, q)\n",
    "            else:\n",
    "                c = _make_circle_two_points(points[0 : i + 1], p, q)\n",
    "    return c\n",
    "\n",
    "\n",
    "# Two boundary points known\n",
    "def _make_circle_two_points(points, p, q):\n",
    "    diameter = _make_diameter(p, q)\n",
    "    if all(_is_in_circle(diameter, r) for r in points):\n",
    "        return diameter\n",
    "    \n",
    "    left = None\n",
    "    right = None\n",
    "    for r in points:\n",
    "        cross = _cross_product(p[0], p[1], q[0], q[1], r[0], r[1])\n",
    "        c = _make_circumcircle(p, q, r)\n",
    "        if c is None:\n",
    "            continue\n",
    "        elif cross > 0.0 and (left is None or _cross_product(p[0], p[1], q[0], q[1], c[0], c[1]) > _cross_product(p[0], p[1], q[0], q[1], left[0], left[1])):\n",
    "            left = c\n",
    "        elif cross < 0.0 and (right is None or _cross_product(p[0], p[1], q[0], q[1], c[0], c[1]) < _cross_product(p[0], p[1], q[0], q[1], right[0], right[1])):\n",
    "            right = c\n",
    "    return left if (right is None or (left is not None and left[2] <= right[2])) else right\n",
    "\n",
    "\n",
    "def _make_circumcircle(p0, p1, p2):\n",
    "    # Mathematical algorithm from Wikipedia: Circumscribed circle\n",
    "    ax = p0[0]; ay = p0[1]\n",
    "    bx = p1[0]; by = p1[1]\n",
    "    cx = p2[0]; cy = p2[1]\n",
    "    d = (ax * (by - cy) + bx * (cy - ay) + cx * (ay - by)) * 2.0\n",
    "\n",
    "    if d == 0.0:\n",
    "        return None\n",
    "    x = ((ax * ax + ay * ay) * (by - cy) + (bx * bx + by * by) * (cy - ay) + (cx * cx + cy * cy) * (ay - by)) / d\n",
    "    y = ((ax * ax + ay * ay) * (cx - bx) + (bx * bx + by * by) * (ax - cx) + (cx * cx + cy * cy) * (bx - ax)) / d\n",
    "    return (x, y, math.hypot(x - ax, y - ay))\n",
    "\n",
    "\n",
    "def _make_diameter(p0, p1):\n",
    "    return ((p0[0] + p1[0]) / 2.0, (p0[1] + p1[1]) / 2.0, math.hypot(p0[0] - p1[0], p0[1] - p1[1]) / 2.0)\n",
    "\n",
    "\n",
    "_EPSILON = 1e-9\n",
    "\n",
    "def _is_in_circle(c, p):\n",
    "    return c is not None and math.hypot(p[0] - c[0], p[1] - c[1]) < c[2] + _EPSILON\n",
    "\n",
    "\n",
    "# Returns twice the signed area of the triangle defined by (x0, y0), (x1, y1), (x2, y2)\n",
    "def _cross_product(x0, y0, x1, y1, x2, y2):\n",
    "    return (x1 - x0) * (y2 - y0) - (y1 - y0) * (x2 - x0)"
   ]
  },
  {
   "cell_type": "code",
   "execution_count": null,
   "metadata": {
    "collapsed": true
   },
   "outputs": [],
   "source": [
    "import itertools"
   ]
  },
  {
   "cell_type": "code",
   "execution_count": null,
   "metadata": {
    "collapsed": true
   },
   "outputs": [],
   "source": [
    "def all_combinations(any_list):\n",
    "    return itertools.chain.from_iterable(\n",
    "        itertools.combinations(any_list, i + 1)\n",
    "        for i in xrange(len(any_list)))"
   ]
  },
  {
   "cell_type": "code",
   "execution_count": null,
   "metadata": {
    "collapsed": false
   },
   "outputs": [],
   "source": [
    "points = [json.load(open('./data/testpoints/testpoints1_{}.json'.format(i))) for i in range(8)]\n",
    "mappings = {}\n",
    "for ps in points:\n",
    "    for p in ps:\n",
    "        fn = p['filename']\n",
    "        if fn not in mappings:\n",
    "            mappings[fn] = []\n",
    "        mappings[fn].append((p['annotations'][0]['y'], p['annotations'][0]['x']))\n",
    "        \n",
    "fns = [fn for fn in mappings if len(mappings[fn]) == 8]\n",
    "locs = np.array([mappings[fn] for fn in fns])\n",
    "\n",
    "filterlocs = []\n",
    "for loc in locs:\n",
    "    candidates = [(len(x), make_circle(x)[2], x) for x in all_combinations(loc)]\n",
    "    candidates = [c for c in candidates if c[1] < 10]\n",
    "    p0 = np.array(candidates[-1][2]).mean(0)\n",
    "    filterlocs.append((candidates[-1][0], p0))\n",
    "    \n",
    "testpoints1 = json.load(open('./data/testpoints/testpoints1_0.json'))\n",
    "for p in testpoints1:\n",
    "    y, x = filterlocs[fnidx[p['filename']]][1]\n",
    "    p['annotations'][0]['x'] = int(x)\n",
    "    p['annotations'][0]['y'] = int(y)\n",
    "json.dump(testpoints1, open('./data/testpoints/testpoints1_filtered.json','w'), indent=0)    "
   ]
  },
  {
   "cell_type": "code",
   "execution_count": null,
   "metadata": {
    "collapsed": true
   },
   "outputs": [],
   "source": [
    "points = [json.load(open('./data/testpoints/testpoints2_{}.json'.format(i))) for i in range(8)]\n",
    "mappings = {}\n",
    "for ps in points:\n",
    "    for p in ps:\n",
    "        fn = p['filename']\n",
    "        if fn not in mappings:\n",
    "            mappings[fn] = []\n",
    "        mappings[fn].append((p['annotations'][0]['y'], p['annotations'][0]['x']))\n",
    "        \n",
    "fns = [fn for fn in mappings if len(mappings[fn]) == 8]\n",
    "locs = np.array([mappings[fn] for fn in fns])\n",
    "\n",
    "filterlocs = []\n",
    "for loc in locs:\n",
    "    candidates = [(len(x), make_circle(x)[2], x) for x in all_combinations(loc)]\n",
    "    candidates = [c for c in candidates if c[1] < 10]\n",
    "    p0 = np.array(candidates[-1][2]).mean(0)\n",
    "    filterlocs.append((candidates[-1][0], p0))\n",
    "    \n",
    "testpoints1 = json.load(open('./data/testpoints/testpoints2_0.json'))\n",
    "for p in testpoints1:\n",
    "    y, x = filterlocs[fnidx[p['filename']]][1]\n",
    "    p['annotations'][0]['x'] = int(x)\n",
    "    p['annotations'][0]['y'] = int(y)\n",
    "json.dump(testpoints1, open('./data/testpoints/testpoints2_filtered.json','w'), indent=0)    "
   ]
  }
 ],
 "metadata": {
  "kernelspec": {
   "display_name": "Python 2",
   "language": "python",
   "name": "python2"
  },
  "language_info": {
   "codemirror_mode": {
    "name": "ipython",
    "version": 2
   },
   "file_extension": ".py",
   "mimetype": "text/x-python",
   "name": "python",
   "nbconvert_exporter": "python",
   "pygments_lexer": "ipython2",
   "version": "2.7.6"
  }
 },
 "nbformat": 4,
 "nbformat_minor": 0
}
